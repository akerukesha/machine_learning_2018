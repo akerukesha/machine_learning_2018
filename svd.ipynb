{
 "cells": [
  {
   "cell_type": "markdown",
   "metadata": {},
   "source": [
    "# **Singular-Value Decomposition**"
   ]
  },
  {
   "cell_type": "markdown",
   "metadata": {},
   "source": [
    "Okapova Akerke\n",
    "\n",
    "15BD02047\n",
    "\n",
    "okapova.akerke@gmail.com\n",
    "\n",
    "http://github.com/akerukesha"
   ]
  },
  {
   "cell_type": "code",
   "execution_count": 1,
   "metadata": {},
   "outputs": [],
   "source": [
    "import numpy as np\n",
    "from scipy.linalg import svd"
   ]
  },
  {
   "cell_type": "code",
   "execution_count": 44,
   "metadata": {},
   "outputs": [
    {
     "data": {
      "text/plain": [
       "array([[ 3,  1,  1],\n",
       "       [-1,  3,  1]])"
      ]
     },
     "execution_count": 44,
     "metadata": {},
     "output_type": "execute_result"
    }
   ],
   "source": [
    "# define a matrix\n",
    "A = np.array([\n",
    "    [3,1,1],\n",
    "    [-1,3,1]\n",
    "])\n",
    "A"
   ]
  },
  {
   "cell_type": "code",
   "execution_count": 45,
   "metadata": {},
   "outputs": [
    {
     "name": "stdout",
     "output_type": "stream",
     "text": [
      "U\n",
      "[[-0.70710678 -0.70710678]\n",
      " [-0.70710678  0.70710678]]\n",
      "S\n",
      "[3.46410162 3.16227766]\n",
      "VT\n",
      "[[-4.08248290e-01 -8.16496581e-01 -4.08248290e-01]\n",
      " [-8.94427191e-01  4.47213595e-01  5.27355937e-16]\n",
      " [-1.82574186e-01 -3.65148372e-01  9.12870929e-01]]\n"
     ]
    }
   ],
   "source": [
    "# SVD\n",
    "U, S, VT = svd(A)\n",
    "print(\"U\")\n",
    "print(U)\n",
    "print(\"S\")\n",
    "print(S)\n",
    "print(\"VT\")\n",
    "print(VT)"
   ]
  },
  {
   "cell_type": "code",
   "execution_count": 46,
   "metadata": {},
   "outputs": [
    {
     "name": "stdout",
     "output_type": "stream",
     "text": [
      "U\n",
      "[[ 0.70710678 -0.70710678]\n",
      " [ 0.70710678  0.70710678]]\n",
      "S\n",
      "[[3.46410162 0.        ]\n",
      " [0.         3.16227766]]\n",
      "VT\n",
      "[[ 0.40824829 -0.89442719]\n",
      " [ 0.81649658  0.4472136 ]\n",
      " [ 0.40824829  0.        ]]\n"
     ]
    }
   ],
   "source": [
    "temp = A.dot(A.T)\n",
    "S,U = np.linalg.eig(temp)\n",
    "S = np.diag(np.sqrt(S))\n",
    "VT = A.T.dot(U).dot(np.linalg.inv(S))\n",
    "print(\"U\")\n",
    "print(U)\n",
    "print(\"S\")\n",
    "print(S)\n",
    "print(\"VT\")\n",
    "print(VT)"
   ]
  },
  {
   "cell_type": "markdown",
   "metadata": {},
   "source": [
    "Sources:\n",
    "\n",
    "https://towardsdatascience.com/my-notes-for-singular-value-decomposition-with-interactive-code-feat-peter-mills-7584f4f2930a\n",
    "\n",
    "https://blog.statsbot.co/singular-value-decomposition-tutorial-52c695315254"
   ]
  }
 ],
 "metadata": {
  "kernelspec": {
   "display_name": "Python 3",
   "language": "python",
   "name": "python3"
  },
  "language_info": {
   "codemirror_mode": {
    "name": "ipython",
    "version": 3
   },
   "file_extension": ".py",
   "mimetype": "text/x-python",
   "name": "python",
   "nbconvert_exporter": "python",
   "pygments_lexer": "ipython3",
   "version": "3.7.0"
  }
 },
 "nbformat": 4,
 "nbformat_minor": 2
}
