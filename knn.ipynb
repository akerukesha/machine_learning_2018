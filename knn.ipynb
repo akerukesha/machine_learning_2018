{
 "cells": [
  {
   "cell_type": "markdown",
   "metadata": {},
   "source": [
    "# **kNN from scratch**"
   ]
  },
  {
   "cell_type": "markdown",
   "metadata": {},
   "source": [
    "Okapova Akerke\n",
    "\n",
    "15BD02047\n",
    "\n",
    "okapova.akerke@gmail.com\n",
    "\n",
    "http://github.com/akerukesha"
   ]
  },
  {
   "cell_type": "markdown",
   "metadata": {},
   "source": [
    "Example of kNN implemented from Scratch"
   ]
  },
  {
   "cell_type": "code",
   "execution_count": 6,
   "metadata": {},
   "outputs": [],
   "source": [
    "import csv\n",
    "import random\n",
    "import math\n",
    "import operator"
   ]
  },
  {
   "cell_type": "code",
   "execution_count": 7,
   "metadata": {},
   "outputs": [],
   "source": [
    "def load_dataset(filename, split):\n",
    "    training_set = []\n",
    "    test_set = []\n",
    "    with open(filename, 'r') as csvfile:\n",
    "        lines = csv.reader(csvfile)\n",
    "        dataset = list(lines)\n",
    "        random.shuffle(dataset)\n",
    "        print(len(dataset))\n",
    "        s = int(split * len(dataset))\n",
    "        training_set = dataset[:s]\n",
    "        test_set = dataset[s:]\n",
    "    return training_set, test_set"
   ]
  },
  {
   "cell_type": "code",
   "execution_count": 45,
   "metadata": {},
   "outputs": [
    {
     "name": "stdout",
     "output_type": "stream",
     "text": [
      "150\n"
     ]
    },
    {
     "data": {
      "text/plain": [
       "[['5.4', '3.9', '1.3', '0.4', 'Iris-setosa'],\n",
       " ['5.3', '3.7', '1.5', '0.2', 'Iris-setosa'],\n",
       " ['5.0', '3.4', '1.6', '0.4', 'Iris-setosa'],\n",
       " ['4.5', '2.3', '1.3', '0.3', 'Iris-setosa'],\n",
       " ['6.5', '3.0', '5.5', '1.8', 'Iris-virginica']]"
      ]
     },
     "execution_count": 45,
     "metadata": {},
     "output_type": "execute_result"
    }
   ],
   "source": [
    "split = 0.67\n",
    "training_set, test_set = load_dataset('iris.txt', split)\n",
    "training_set[:5]"
   ]
  },
  {
   "cell_type": "code",
   "execution_count": 14,
   "metadata": {},
   "outputs": [],
   "source": [
    "def euclidean_distance(instance1, instance2, length):\n",
    "    distance = 0\n",
    "    for x in range(length):\n",
    "        distance += pow((float(instance1[x]) - float(instance2[x])), 2)\n",
    "    return math.sqrt(distance)"
   ]
  },
  {
   "cell_type": "code",
   "execution_count": 15,
   "metadata": {},
   "outputs": [],
   "source": [
    "def get_neighbors(training_set, test_instance, k):\n",
    "    distances = []\n",
    "    length = len(test_instance)-1\n",
    "    \n",
    "    for train_instance in training_set:\n",
    "        dist = euclidean_distance(test_instance, train_instance, length)\n",
    "        distances.append((train_instance, dist))\n",
    "    \n",
    "    distances.sort(key=operator.itemgetter(1))\n",
    "    neighbors = []\n",
    "    for x in range(k):\n",
    "        neighbors.append(distances[x][0])\n",
    "    return neighbors"
   ]
  },
  {
   "cell_type": "code",
   "execution_count": 16,
   "metadata": {},
   "outputs": [],
   "source": [
    "def get_response(neighbors):\n",
    "    class_votes = {}\n",
    "    for n in neighbors:\n",
    "        response = n[-1]\n",
    "        if response in class_votes:\n",
    "            class_votes[response] += 1\n",
    "        else:\n",
    "            class_votes[response] = 1\n",
    "    sorted_votes = sorted(class_votes.items(), key=operator.itemgetter(1), reverse=True)\n",
    "    return sorted_votes[0][0]"
   ]
  },
  {
   "cell_type": "code",
   "execution_count": 17,
   "metadata": {},
   "outputs": [],
   "source": [
    "def get_accuracy(results):\n",
    "    correct = 0\n",
    "    for result in results:\n",
    "        correct += int(result[0] == result[1])\n",
    "    return (float(correct)/float(len(results))) * 100.0"
   ]
  },
  {
   "cell_type": "code",
   "execution_count": 46,
   "metadata": {},
   "outputs": [],
   "source": [
    "def main(split=0.67, k=10, show=10):\n",
    "    training_set, test_set = load_dataset('iris.txt', split)\n",
    "    \n",
    "    results = []\n",
    "\n",
    "    for instance in test_set:\n",
    "        neighbors = get_neighbors(training_set, instance, k)\n",
    "        result = get_response(neighbors)\n",
    "        results.append([instance[-1], result])\n",
    "\n",
    "    accuracy = get_accuracy(results)\n",
    "    print(\"Accuracy: {0}%\".format(accuracy))\n",
    "\n",
    "    print(\"\\nSample results:\")\n",
    "    for result in results[:show]:\n",
    "        print(\"Actual flower: \\\"{0}\\\", predicted flower: \\\"{1}\\\"\".format(result[0], result[1]))\n",
    "    \n",
    "    print(\"\\nWrong results:\")\n",
    "    for result in results:\n",
    "        if result[0] != result[1]:\n",
    "            print(\"Actual flower: \\\"{0}\\\", predicted flower: \\\"{1}\\\"\".format(result[0], result[1]))"
   ]
  },
  {
   "cell_type": "code",
   "execution_count": 47,
   "metadata": {},
   "outputs": [
    {
     "name": "stdout",
     "output_type": "stream",
     "text": [
      "150\n",
      "Accuracy: 94.0%\n",
      "\n",
      "Sample results:\n",
      "Actual flower: \"Iris-versicolor\", predicted flower: \"Iris-versicolor\"\n",
      "Actual flower: \"Iris-versicolor\", predicted flower: \"Iris-versicolor\"\n",
      "Actual flower: \"Iris-versicolor\", predicted flower: \"Iris-versicolor\"\n",
      "Actual flower: \"Iris-virginica\", predicted flower: \"Iris-virginica\"\n",
      "Actual flower: \"Iris-versicolor\", predicted flower: \"Iris-versicolor\"\n",
      "Actual flower: \"Iris-versicolor\", predicted flower: \"Iris-versicolor\"\n",
      "Actual flower: \"Iris-setosa\", predicted flower: \"Iris-setosa\"\n",
      "Actual flower: \"Iris-setosa\", predicted flower: \"Iris-setosa\"\n",
      "Actual flower: \"Iris-versicolor\", predicted flower: \"Iris-versicolor\"\n",
      "Actual flower: \"Iris-virginica\", predicted flower: \"Iris-versicolor\"\n",
      "\n",
      "Wrong results:\n",
      "Actual flower: \"Iris-virginica\", predicted flower: \"Iris-versicolor\"\n",
      "Actual flower: \"Iris-virginica\", predicted flower: \"Iris-versicolor\"\n",
      "Actual flower: \"Iris-versicolor\", predicted flower: \"Iris-virginica\"\n"
     ]
    }
   ],
   "source": [
    "main()"
   ]
  },
  {
   "cell_type": "code",
   "execution_count": 48,
   "metadata": {
    "scrolled": true
   },
   "outputs": [
    {
     "name": "stdout",
     "output_type": "stream",
     "text": [
      "150\n",
      "Accuracy: 92.0%\n",
      "\n",
      "Sample results:\n",
      "Actual flower: \"Iris-versicolor\", predicted flower: \"Iris-versicolor\"\n",
      "Actual flower: \"Iris-versicolor\", predicted flower: \"Iris-virginica\"\n",
      "Actual flower: \"Iris-setosa\", predicted flower: \"Iris-setosa\"\n",
      "Actual flower: \"Iris-versicolor\", predicted flower: \"Iris-virginica\"\n",
      "Actual flower: \"Iris-setosa\", predicted flower: \"Iris-setosa\"\n",
      "Actual flower: \"Iris-setosa\", predicted flower: \"Iris-setosa\"\n",
      "Actual flower: \"Iris-virginica\", predicted flower: \"Iris-virginica\"\n",
      "Actual flower: \"Iris-versicolor\", predicted flower: \"Iris-versicolor\"\n",
      "Actual flower: \"Iris-virginica\", predicted flower: \"Iris-virginica\"\n",
      "Actual flower: \"Iris-setosa\", predicted flower: \"Iris-setosa\"\n",
      "\n",
      "Wrong results:\n",
      "Actual flower: \"Iris-versicolor\", predicted flower: \"Iris-virginica\"\n",
      "Actual flower: \"Iris-versicolor\", predicted flower: \"Iris-virginica\"\n",
      "Actual flower: \"Iris-versicolor\", predicted flower: \"Iris-virginica\"\n",
      "Actual flower: \"Iris-versicolor\", predicted flower: \"Iris-virginica\"\n"
     ]
    }
   ],
   "source": [
    "main(k=20)"
   ]
  }
 ],
 "metadata": {
  "kernelspec": {
   "display_name": "Python 3",
   "language": "python",
   "name": "python3"
  },
  "language_info": {
   "codemirror_mode": {
    "name": "ipython",
    "version": 2
   },
   "file_extension": ".py",
   "mimetype": "text/x-python",
   "name": "python",
   "nbconvert_exporter": "python",
   "pygments_lexer": "ipython2",
   "version": "2.7.16"
  }
 },
 "nbformat": 4,
 "nbformat_minor": 2
}
