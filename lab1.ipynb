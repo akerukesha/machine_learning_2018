{
 "cells": [
  {
   "cell_type": "markdown",
   "metadata": {},
   "source": [
    "# **Lab1. Сравнение предложений**"
   ]
  },
  {
   "cell_type": "markdown",
   "metadata": {},
   "source": [
    "Okapova Akerke\n",
    "\n",
    "15BD02047\n",
    "\n",
    "okapova.akerke@gmail.com\n",
    "\n",
    "http://github.com/akerukesha"
   ]
  },
  {
   "cell_type": "markdown",
   "metadata": {},
   "source": [
    "Задача 1: сравнение предложений\n",
    "\n",
    "Дан набор предложений, скопированных из Википедии. Каждое из них имеет \"кошачью тему\" в одном из трех смыслов:\n",
    "- кошки (животные)\n",
    "- UNIX-утилита cat для вывода содержимого файлов\n",
    "- версии операционной системы OS X, названные в честь семейства кошачьих\n",
    "Ваша задача — найти два предложения, которые ближе всего по смыслу к расположенному в самой первой строке. В качестве меры близости по смыслу мы будем использовать косинусное расстояние.\n",
    "\n",
    "Выполните следующие шаги:\n",
    "1. Скачайте файл с предложениями (sentences.txt).\n",
    "2. Каждая строка в файле соответствует одному предложению. Считайте их, приведите каждую к нижнему регистру с помощью строковой функции lower().\n",
    "3. Произведите токенизацию, то есть разбиение текстов на слова. Для этого можно воспользоваться регулярным выражением, которое считает разделителем любой символ, не являющийся буквой: re.split('[^a-z]', t). Не забудьте удалить пустые слова после разделения.\n",
    "4. Составьте список всех слов, встречающихся в предложениях. Сопоставьте каждому слову индекс от нуля до (d - 1), где d — число различных слов в предложениях. Для этого удобно воспользоваться структурой dict.\n",
    "5. Создайте матрицу размера n * d, где n — число предложений. Заполните ее: элемент с индексом (i, j) в этой матрице должен быть равен количеству вхождений j-го слова в i-е предложение. У вас должна получиться матрица размера 22 * 254.\n",
    "6. Найдите косинусное расстояние от предложения в самой первой строке (In comparison to dogs, cats have not undergone...) до всех остальных с помощью функции scipy.spatial.distance.cosine. Какие номера у двух предложений, ближайших к нему по этому расстоянию (строки нумеруются с нуля)? Эти два числа и будут ответами на задание. Само предложение (In comparison to dogs, cats have not undergone... ) имеет индекс 0.\n",
    "7. Запишите полученные числа в ответ, разделив пробелом.\n",
    "8. Совпадают ли ближайшие два предложения по тематике с первым? Совпадают ли тематики у следующих по близости предложений?"
   ]
  },
  {
   "cell_type": "code",
   "execution_count": 6,
   "metadata": {},
   "outputs": [],
   "source": [
    "import numpy as np\n",
    "import re\n",
    "from scipy.spatial.distance import cosine"
   ]
  },
  {
   "cell_type": "code",
   "execution_count": 12,
   "metadata": {},
   "outputs": [
    {
     "name": "stdout",
     "output_type": "stream",
     "text": [
      "RAW_SENTENCES\n",
      "['In comparison to dogs, cats have not undergone major changes during the domestication process.\\n', 'As cat simply catenates streams of bytes, it can be also used to concatenate binary files, where it will just concatenate sequence of bytes.\\n', 'A common interactive use of cat for a single file is to output the content of a file to standard output.\\n', 'Cats can hear sounds too faint or too high in frequency for human ears, such as those made by mice and other small animals.\\n', 'In one, people deliberately tamed cats in a process of artificial selection, as they were useful predators of vermin.\\n', 'The domesticated cat and its closest wild ancestor are both diploid organisms that possess 38 chromosomes and roughly 20,000 genes.\\n', 'Domestic cats are similar in size to the other members of the genus Felis, typically weighing between 4 and 5 kg (8.8 and 11.0 lb).\\n', 'However, if the output is piped or redirected, cat is unnecessary.\\n', 'cat with one named file is safer where human error is a concern - one wrong use of the default redirection symbol \">\" instead of \"<\" (often adjacent on keyboards) may permanently delete the file you were just needing to read.\\n', 'In terms of legibility, a sequence of commands starting with cat and connected by pipes has a clear left-to-right flow of information.\\n', 'Cat command is one of the basic commands that you learned when you started in the Unix / Linux world.\\n', 'Using cat command, the lines received from stdin can be redirected to a new file using redirection symbols.\\n', 'When you type simply cat command without any arguments, it just receives the stdin content and displays it in the stdout.\\n', 'Leopard was released on October 26, 2007 as the successor of Tiger (version 10.4), and is available in two editions.\\n', 'According to Apple, Leopard contains over 300 changes and enhancements over its predecessor, Mac OS X Tiger.\\n', 'As of Mid 2010, some Apple computers have firmware factory installed which will no longer allow installation of Mac OS X Leopard.\\n', 'Since Apple moved to using Intel processors in their computers, the OSx86 community has developed and now also allows Mac OS X Tiger and later releases to be installed on non-Apple x86-based computers.\\n', \"OS X Mountain Lion was released on July 25, 2012 for purchase and download through Apple's Mac App Store, as part of a switch to releasing OS X versions online and every year.\\n\", 'Apple has released a small patch for the three most recent versions of Safari running on OS X Yosemite, Mavericks, and Mountain Lion.\\n', 'The Mountain Lion release marks the second time Apple has offered an incremental upgrade, rather than releasing a new cat entirely.\\n', \"Mac OS X Mountain Lion installs in place, so you won't need to create a separate disk or run the installation off an external drive.\\n\", \"The fifth major update to Mac OS X, Leopard, contains such a mountain of features - more than 300 by Apple's count.\"]\n",
      "TOKENS\n",
      "[['in', 'comparison', 'to', 'dogs', 'cats', 'have', 'not', 'undergone', 'major', 'changes', 'during', 'the', 'domestication', 'process'], ['as', 'cat', 'simply', 'catenates', 'streams', 'of', 'bytes', 'it', 'can', 'be', 'also', 'used', 'to', 'concatenate', 'binary', 'files', 'where', 'it', 'will', 'just', 'concatenate', 'sequence', 'of', 'bytes'], ['a', 'common', 'interactive', 'use', 'of', 'cat', 'for', 'a', 'single', 'file', 'is', 'to', 'output', 'the', 'content', 'of', 'a', 'file', 'to', 'standard', 'output'], ['cats', 'can', 'hear', 'sounds', 'too', 'faint', 'or', 'too', 'high', 'in', 'frequency', 'for', 'human', 'ears', 'such', 'as', 'those', 'made', 'by', 'mice', 'and', 'other', 'small', 'animals'], ['in', 'one', 'people', 'deliberately', 'tamed', 'cats', 'in', 'a', 'process', 'of', 'artificial', 'selection', 'as', 'they', 'were', 'useful', 'predators', 'of', 'vermin'], ['the', 'domesticated', 'cat', 'and', 'its', 'closest', 'wild', 'ancestor', 'are', 'both', 'diploid', 'organisms', 'that', 'possess', 'chromosomes', 'and', 'roughly', 'genes'], ['domestic', 'cats', 'are', 'similar', 'in', 'size', 'to', 'the', 'other', 'members', 'of', 'the', 'genus', 'felis', 'typically', 'weighing', 'between', 'and', 'kg', 'and', 'lb'], ['however', 'if', 'the', 'output', 'is', 'piped', 'or', 'redirected', 'cat', 'is', 'unnecessary'], ['cat', 'with', 'one', 'named', 'file', 'is', 'safer', 'where', 'human', 'error', 'is', 'a', 'concern', 'one', 'wrong', 'use', 'of', 'the', 'default', 'redirection', 'symbol', 'instead', 'of', 'often', 'adjacent', 'on', 'keyboards', 'may', 'permanently', 'delete', 'the', 'file', 'you', 'were', 'just', 'needing', 'to', 'read'], ['in', 'terms', 'of', 'legibility', 'a', 'sequence', 'of', 'commands', 'starting', 'with', 'cat', 'and', 'connected', 'by', 'pipes', 'has', 'a', 'clear', 'left', 'to', 'right', 'flow', 'of', 'information'], ['cat', 'command', 'is', 'one', 'of', 'the', 'basic', 'commands', 'that', 'you', 'learned', 'when', 'you', 'started', 'in', 'the', 'unix', 'linux', 'world'], ['using', 'cat', 'command', 'the', 'lines', 'received', 'from', 'stdin', 'can', 'be', 'redirected', 'to', 'a', 'new', 'file', 'using', 'redirection', 'symbols'], ['when', 'you', 'type', 'simply', 'cat', 'command', 'without', 'any', 'arguments', 'it', 'just', 'receives', 'the', 'stdin', 'content', 'and', 'displays', 'it', 'in', 'the', 'stdout'], ['leopard', 'was', 'released', 'on', 'october', 'as', 'the', 'successor', 'of', 'tiger', 'version', 'and', 'is', 'available', 'in', 'two', 'editions'], ['according', 'to', 'apple', 'leopard', 'contains', 'over', 'changes', 'and', 'enhancements', 'over', 'its', 'predecessor', 'mac', 'os', 'x', 'tiger'], ['as', 'of', 'mid', 'some', 'apple', 'computers', 'have', 'firmware', 'factory', 'installed', 'which', 'will', 'no', 'longer', 'allow', 'installation', 'of', 'mac', 'os', 'x', 'leopard'], ['since', 'apple', 'moved', 'to', 'using', 'intel', 'processors', 'in', 'their', 'computers', 'the', 'osx', 'community', 'has', 'developed', 'and', 'now', 'also', 'allows', 'mac', 'os', 'x', 'tiger', 'and', 'later', 'releases', 'to', 'be', 'installed', 'on', 'non', 'apple', 'x', 'based', 'computers'], ['os', 'x', 'mountain', 'lion', 'was', 'released', 'on', 'july', 'for', 'purchase', 'and', 'download', 'through', 'apple', 's', 'mac', 'app', 'store', 'as', 'part', 'of', 'a', 'switch', 'to', 'releasing', 'os', 'x', 'versions', 'online', 'and', 'every', 'year'], ['apple', 'has', 'released', 'a', 'small', 'patch', 'for', 'the', 'three', 'most', 'recent', 'versions', 'of', 'safari', 'running', 'on', 'os', 'x', 'yosemite', 'mavericks', 'and', 'mountain', 'lion'], ['the', 'mountain', 'lion', 'release', 'marks', 'the', 'second', 'time', 'apple', 'has', 'offered', 'an', 'incremental', 'upgrade', 'rather', 'than', 'releasing', 'a', 'new', 'cat', 'entirely'], ['mac', 'os', 'x', 'mountain', 'lion', 'installs', 'in', 'place', 'so', 'you', 'won', 't', 'need', 'to', 'create', 'a', 'separate', 'disk', 'or', 'run', 'the', 'installation', 'off', 'an', 'external', 'drive'], ['the', 'fifth', 'major', 'update', 'to', 'mac', 'os', 'x', 'leopard', 'contains', 'such', 'a', 'mountain', 'of', 'features', 'more', 'than', 'by', 'apple', 's', 'count']]\n",
      "WORDS\n",
      "{0: 'typically', 1: 'learned', 2: 'is', 3: 'started', 4: 'external', 5: 'dogs', 6: 'when', 7: 'was', 8: 'files', 9: 'single', 10: 'two', 11: 'installed', 12: 'an', 13: 'yosemite', 14: 'you', 15: 'allow', 16: 'that', 17: 'genus', 18: 'streams', 19: 'leopard', 20: 'instead', 21: 'safer', 22: 'os', 23: 'need', 24: 'people', 25: 'so', 26: 'adjacent', 27: 'later', 28: 'features', 29: 'lb', 30: 'computers', 31: 'since', 32: 'high', 33: 'artificial', 34: 'receives', 35: 'most', 36: 'version', 37: 'according', 38: 'mac', 39: 'fifth', 40: 'content', 41: 'stdin', 42: 'cats', 43: 'released', 44: 'rather', 45: 'domestic', 46: 'faint', 47: 'for', 48: 'disk', 49: 'and', 50: 'right', 51: 'read', 52: 'longer', 53: 'some', 54: 'to', 55: 'which', 56: 'too', 57: 's', 58: 'release', 59: 'running', 60: 'moved', 61: 'binary', 62: 'community', 63: 'catenates', 64: 'count', 65: 'every', 66: 'releases', 67: 'wrong', 68: 'releasing', 69: 'if', 70: 'frequency', 71: 'may', 72: 'both', 73: 'basic', 74: 'allows', 75: 'deliberately', 76: 'create', 77: 'drive', 78: 'between', 79: 'domesticated', 80: 'terms', 81: 'bytes', 82: 'new', 83: 'felis', 84: 'download', 85: 'october', 86: 'off', 87: 'organisms', 88: 'available', 89: 'marks', 90: 'information', 91: 'the', 92: 'firmware', 93: 'vermin', 94: 'or', 95: 'successor', 96: 'chromosomes', 97: 'made', 98: 'piped', 99: 'will', 100: 'unix', 101: 'without', 102: 'sequence', 103: 'won', 104: 'similar', 105: 'online', 106: 'world', 107: 'a', 108: 'has', 109: 'incremental', 110: 'store', 111: 'one', 112: 'default', 113: 'symbol', 114: 'factory', 115: 'kg', 116: 'named', 117: 'are', 118: 'just', 119: 'july', 120: 'more', 121: 'other', 122: 'commands', 123: 'switch', 124: 'run', 125: 'useful', 126: 'changes', 127: 'cat', 128: 'selection', 129: 'output', 130: 'small', 131: 'enhancements', 132: 'x', 133: 'those', 134: 'command', 135: 'part', 136: 'second', 137: 'used', 138: 'mountain', 139: 'upgrade', 140: 'ancestor', 141: 'also', 142: 'their', 143: 'place', 144: 'unnecessary', 145: 'installation', 146: 'closest', 147: 'genes', 148: 'its', 149: 'mid', 150: 'versions', 151: 'year', 152: 'common', 153: 'weighing', 154: 'no', 155: 'during', 156: 'symbols', 157: 'on', 158: 'use', 159: 'redirection', 160: 'often', 161: 'app', 162: 'concatenate', 163: 'lion', 164: 'osx', 165: 'clear', 166: 'processors', 167: 'with', 168: 'possess', 169: 'roughly', 170: 'mice', 171: 'from', 172: 'they', 173: 'developed', 174: 'tamed', 175: 'using', 176: 'stdout', 177: 'intel', 178: 'where', 179: 'delete', 180: 'connected', 181: 'redirected', 182: 'based', 183: 'editions', 184: 'however', 185: 'undergone', 186: 'standard', 187: 'apple', 188: 'predators', 189: 'members', 190: 'size', 191: 'in', 192: 'offered', 193: 'major', 194: 'contains', 195: 'of', 196: 'process', 197: 'have', 198: 'purchase', 199: 'over', 200: 'were', 201: 'sounds', 202: 'interactive', 203: 'received', 204: 'separate', 205: 'hear', 206: 'starting', 207: 'file', 208: 'displays', 209: 'ears', 210: 'flow', 211: 'mavericks', 212: 'simply', 213: 'keyboards', 214: 'domestication', 215: 'it', 216: 'as', 217: 'human', 218: 'comparison', 219: 'animals', 220: 'needing', 221: 'linux', 222: 'non', 223: 'such', 224: 'left', 225: 'predecessor', 226: 'safari', 227: 'than', 228: 't', 229: 'update', 230: 'tiger', 231: 'now', 232: 'permanently', 233: 'lines', 234: 'pipes', 235: 'three', 236: 'by', 237: 'wild', 238: 'error', 239: 'concern', 240: 'time', 241: 'entirely', 242: 'diploid', 243: 'type', 244: 'not', 245: 'through', 246: 'be', 247: 'any', 248: 'patch', 249: 'recent', 250: 'arguments', 251: 'can', 252: 'installs', 253: 'legibility'}\n"
     ]
    }
   ],
   "source": [
    "def get_sents_and_words(file):\n",
    "    ''' возвращает список предложений и множество слов '''\n",
    "    result_sents, result_words = [], []\n",
    "\n",
    "    with open(file, 'r') as f:\n",
    "        raw_sents = f.readlines()\n",
    "    print(\"RAW_SENTENCES\")\n",
    "    print(raw_sents)\n",
    "    for sent in raw_sents:\n",
    "        sent = sent.lower()\n",
    "        split_words = [x for x in re.split('[^a-z]', sent) if x != '']\n",
    "        result_sents.append(split_words)\n",
    "        result_words.extend(split_words)\n",
    "\n",
    "    result_words = set(result_words)\n",
    "    result_words = dict(zip([x for x in range(len(result_words))], result_words))\n",
    "    return result_sents, result_words\n",
    "\n",
    "LINES, WORDS = get_sents_and_words(\"sentences.txt\")\n",
    "print(\"TOKENS\")\n",
    "print(LINES)\n",
    "print(\"WORDS\")\n",
    "print(WORDS)"
   ]
  },
  {
   "cell_type": "code",
   "execution_count": 13,
   "metadata": {},
   "outputs": [
    {
     "name": "stdout",
     "output_type": "stream",
     "text": [
      "[[0. 0. 0. ... 0. 0. 0.]\n",
      " [0. 0. 0. ... 1. 0. 0.]\n",
      " [0. 0. 1. ... 0. 0. 0.]\n",
      " ...\n",
      " [0. 0. 0. ... 0. 0. 0.]\n",
      " [0. 0. 0. ... 0. 1. 0.]\n",
      " [0. 0. 0. ... 0. 0. 0.]]\n"
     ]
    }
   ],
   "source": [
    "def init_matrix(sents, words):\n",
    "    ''' инициализация матрицы '''\n",
    "    result = np.zeros((len(sents), len(words)))\n",
    "\n",
    "    for i in range(len(sents)):\n",
    "        for j in range(len(words)):\n",
    "            result[i, j] = word_count(words[j], sents[i])\n",
    "\n",
    "    return result\n",
    "\n",
    "\n",
    "def word_count(word, sent):\n",
    "    ''' число вхождений слова в предложение '''\n",
    "    cnt = 0\n",
    "    for w in sent:\n",
    "        if w == word:\n",
    "            cnt = cnt + 1\n",
    "    return cnt\n",
    "\n",
    "MATRIX = init_matrix(LINES, WORDS)\n",
    "print(MATRIX)"
   ]
  },
  {
   "cell_type": "code",
   "execution_count": 14,
   "metadata": {},
   "outputs": [
    {
     "name": "stdout",
     "output_type": "stream",
     "text": [
      "6 4\n"
     ]
    }
   ],
   "source": [
    "def get_distincts(matrix, first):\n",
    "    ''' косинусное расстояние предложения до всех других '''\n",
    "    result = {}\n",
    "    \n",
    "    for i in range(0, first):\n",
    "        result[i] = cosine(matrix[first,], matrix[i])\n",
    "    \n",
    "    for i in range(first + 1, len(matrix)):\n",
    "        result[i] = cosine(matrix[first,], matrix[i])\n",
    "\n",
    "    return result  \n",
    "\n",
    "FINAL_DICT = get_distincts(MATRIX, 0)\n",
    "FINAL_SORT = sorted(FINAL_DICT.items(), key=lambda x: x[1])\n",
    "print(FINAL_SORT[0][0], FINAL_SORT[1][0])"
   ]
  }
 ],
 "metadata": {
  "kernelspec": {
   "display_name": "Python 3",
   "language": "python",
   "name": "python3"
  },
  "language_info": {
   "codemirror_mode": {
    "name": "ipython",
    "version": 3
   },
   "file_extension": ".py",
   "mimetype": "text/x-python",
   "name": "python",
   "nbconvert_exporter": "python",
   "pygments_lexer": "ipython3",
   "version": "3.7.0"
  }
 },
 "nbformat": 4,
 "nbformat_minor": 2
}
